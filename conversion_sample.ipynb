{
 "cells": [
  {
   "cell_type": "code",
   "execution_count": 1,
   "id": "8b70230f",
   "metadata": {},
   "outputs": [],
   "source": [
    "import os\n",
    "devices = \"12,13,14,15\"\n",
    "os.environ[\"CUDA_VISIBLE_DEVICES\"] = devices\n",
    "os.environ['MASTER_ADDR'] = 'localhost'\n",
    "os.environ['MASTER_PORT'] = '12356'"
   ]
  },
  {
   "cell_type": "code",
   "execution_count": 2,
   "id": "b24341c5",
   "metadata": {},
   "outputs": [],
   "source": [
    "import torch.multiprocessing as mp\n",
    "from thesis_code.convert import train, cross_validate, cross_validate_, cross_validate_stratified, MODE_GREEDY, MODE_BEAM\n",
    "from thesis_code.model import Converter, TransformerConverter, FastAutoregressiveConverter\n",
    "from sample.gMLP.model import MultigMLP\n",
    "import torch.nn as nn\n",
    "# for transformer\n",
    "config_transformer = {\n",
    "    \"n_tokens\": 66,\n",
    "    \"seq_len\": 700,\n",
    "    \"n_layers\": 6,\n",
    "    \"n_heads\": 2,\n",
    "    \"query_dimensions\": 128,\n",
    "    \"value_dimensions\": 128,\n",
    "    \"feed_forward_dimensions\": 256,\n",
    "    \"attention_type\": \"full\",\n",
    "    \"n_species\": 34,\n",
    "    \"pretrain\": True\n",
    "}\n",
    "n_epochs = 2000\n",
    "batch_size = 64\n",
    "lr = 1e-4 * 14\n",
    "warmup = 0.1\n",
    "use_apex = False\n",
    "strain_ids = [\n",
    "    22096, 15376, 22118, 22146, 8415, 21918, 20123, 452, 18655, 6750, 17659, 421, 22191, 21978, 12722, 17400,\\\n",
    "    15093, 20120, 20313, 20114, 22204, 19272, 17982, 19601, 21259, 22091, 1375, 10427, 18739, 18441, 22200, 22201, 22202, 22203\n",
    "]\n",
    "direction = 2\n",
    "pretrain = True\n",
    "pretrain_class = MultigMLP\n",
    "config_pretrain = {\n",
    "    \"n_tokens\": 67,\n",
    "    \"d_in\": 512,\n",
    "    \"d_ffn\": 1024,\n",
    "    \"max_len\": 701,\n",
    "    \"n_layers\": 32,\n",
    "    \"act\": nn.Tanh(),\n",
    "    \"n_species\": 278,\n",
    "}\n",
    "pretrain_path = \"./Result/pretrain/protein_family.pt\"\n",
    "log_interval = 100\n",
    "save_interval = 1000\n",
    "output_dir = \"./Result/pretrain/protein_family_stratified\"\n",
    "converter_class = FastAutoregressiveConverter\n",
    "config = config_transformer\n",
    "\n",
    "nprocs = len(devices.split(\",\"))"
   ]
  },
  {
   "cell_type": "code",
   "execution_count": null,
   "id": "ca69c9ec",
   "metadata": {},
   "outputs": [],
   "source": [
    "# trainning for k-fold cross validation\n",
    "mp.spawn(cross_validate, nprocs=nprocs, args=(nprocs, converter_class, config, \"{}/weight/checkpoint_12000.pt\".format(output_dir),\\\n",
    "        n_epochs, batch_size, lr, warmup, use_apex, False,\\\n",
    "        strain_ids, [35], direction, MODE_BEAM,\\\n",
    "        pretrain, pretrain_class, config_pretrain, pretrain_path,\\\n",
    "        log_interval, save_interval, output_dir))"
   ]
  },
  {
   "cell_type": "code",
   "execution_count": 3,
   "id": "f7fc7bfd",
   "metadata": {},
   "outputs": [],
   "source": [
    "# trainning for k-fold cross validation(stratified k-fold)\n",
    "mp.spawn(cross_validate_stratified, nprocs=nprocs, args=(nprocs, converter_class, config, \"{}/weight/checkpoint_12000.pt\".format(output_dir),\\\n",
    "        n_epochs, batch_size, lr, warmup, use_apex, False,\\\n",
    "        strain_ids, [35], direction, MODE_BEAM,\\\n",
    "        pretrain, pretrain_class, config_pretrain, pretrain_path,\\\n",
    "        log_interval, save_interval, output_dir))"
   ]
  },
  {
   "cell_type": "code",
   "execution_count": 3,
   "id": "11175f09",
   "metadata": {},
   "outputs": [],
   "source": [
    "from thesis_code.convert import test, MODE_BEAM, MODE_GREEDY\n",
    "test(converter_class, config, strain_ids, [35], direction, 12000, 3, MODE_BEAM, 0, output_dir=output_dir)"
   ]
  },
  {
   "cell_type": "code",
   "execution_count": null,
   "id": "9f95fb61",
   "metadata": {},
   "outputs": [
    {
     "name": "stderr",
     "output_type": "stream",
     "text": [
      " 50%|█████     | 1/2 [20:48<20:48, 1248.25s/it]"
     ]
    }
   ],
   "source": [
    "from thesis_code.convert import test_from_fasta, MODE_GREEDY, MODE_BEAM\n",
    "# generate sequences from source fasta file\n",
    "test_from_fasta(converter_class, config, strain_ids, 22096, 2000, 2, MODE_BEAM,0,\\\n",
    "                pretrain, pretrain_class, config_pretrain, pretrain_path,\\\n",
    "                output_dir, 100)"
   ]
  },
  {
   "cell_type": "code",
   "execution_count": 3,
   "id": "c3a950e7",
   "metadata": {},
   "outputs": [
    {
     "name": "stderr",
     "output_type": "stream",
     "text": [
      "287it [00:22, 12.98it/s]\n",
      "287it [00:21, 13.58it/s]\n"
     ]
    }
   ],
   "source": [
    "from thesis_code.visualize import scatter_plot, scatter_plot_beam, METRIC_IDENTITY_NC, METRIC_IDENTITY_AA\n",
    "from thesis_code.analysis import gc_content, log_cai, rscu\n",
    "from Bio import SeqIO\n",
    "import numpy as np\n",
    "# visualization\n",
    "\n",
    "reference = \"./sample/data/bacillus_subtilis/GCF_000009045.1_ASM904v1_cds_from_genomic.fna\"\n",
    "ref = rscu(reference)\n",
    "\n",
    "for i in range(1,3):\n",
    "    with open(\"{}/finetune/tgt_{}.fna\".format(output_dir, i), \"r\") as f:\n",
    "        tgt = list(SeqIO.parse(f, \"fasta\"))\n",
    "\n",
    "    with open(\"{}/finetune/gen_{}.fna\".format(output_dir, i), \"r\") as f:\n",
    "        gen = list(SeqIO.parse(f, \"fasta\"))\n",
    "\n",
    "    with open(\"{}/finetune/src_{}.fna\".format(output_dir, i), \"r\") as f:\n",
    "        src = list(SeqIO.parse(f, \"fasta\"))\n",
    "        \n",
    "    #print(np.exp([log_cai(str(x.seq), ref) for x in gen]).mean())\n",
    "    #print(np.array([gc_content(str(x.seq)) for x in gen]).mean())\n",
    "    scatter_plot_beam(src, tgt, gen, \"{}/beam_search_nc_{}.png\".format(output_dir, i),\\\n",
    "      metric=METRIC_IDENTITY_AA)"
   ]
  }
 ],
 "metadata": {
  "kernelspec": {
   "display_name": "Python 3",
   "language": "python",
   "name": "python3"
  },
  "language_info": {
   "codemirror_mode": {
    "name": "ipython",
    "version": 3
   },
   "file_extension": ".py",
   "mimetype": "text/x-python",
   "name": "python",
   "nbconvert_exporter": "python",
   "pygments_lexer": "ipython3",
   "version": "3.8.2"
  }
 },
 "nbformat": 4,
 "nbformat_minor": 5
}
