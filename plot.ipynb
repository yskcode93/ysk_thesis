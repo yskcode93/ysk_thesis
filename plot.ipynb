{
 "cells": [
  {
   "cell_type": "code",
   "execution_count": 71,
   "id": "7fefc220",
   "metadata": {},
   "outputs": [
    {
     "name": "stdout",
     "output_type": "stream",
     "text": [
      "[]\n",
      "[]\n"
     ]
    }
   ],
   "source": [
    "path = \"Result/pretrain/protein_family_subtilis.log\"\n",
    "\n",
    "MLMloss=[]\n",
    "CLSloss=[]\n",
    "\n",
    "with open(path) as f:\n",
    "    for line in f:\n",
    "        MLMloss.append(float(line[22:28]))\n",
    "        CLSloss.append(float(line[34:40]))\n",
    "print(MLMloss)\n",
    "print(CLSloss)"
   ]
  },
  {
   "cell_type": "code",
   "execution_count": 72,
   "id": "18c96509",
   "metadata": {},
   "outputs": [
    {
     "data": {
      "image/png": "[encoded data removed]",
      "text/plain": [
       "<Figure size 432x288 with 1 Axes>"
      ]
     },
     "metadata": {
      "needs_background": "light"
     },
     "output_type": "display_data"
    }
   ],
   "source": [
    "import matplotlib.pyplot as plt\n",
    "x = MLMloss\n",
    "plt.plot(x,color='#ff7f00');"
   ]
  },
  {
   "cell_type": "code",
   "execution_count": 32,
   "id": "32679af2",
   "metadata": {},
   "outputs": [
    {
     "data": {
      "image/png": "[encoded data removed]",
      "text/plain": [
       "<Figure size 432x288 with 1 Axes>"
      ]
     },
     "metadata": {
      "needs_background": "light"
     },
     "output_type": "display_data"
    }
   ],
   "source": [
    "import matplotlib.pyplot as plt\n",
    "x = CLSloss\n",
    "plt.plot(x);"
   ]
  },
  {
   "cell_type": "code",
   "execution_count": 46,
   "id": "b96d1dbd",
   "metadata": {},
   "outputs": [],
   "source": [
    "import torch\n",
    "model = torch.load(\"../thesis_code/Result/pretrain/protein_family_thuringiensis.pt\")"
   ]
  },
  {
   "cell_type": "markdown",
   "id": "cd967fe6",
   "metadata": {},
   "source": [
    "model"
   ]
  },
  {
   "cell_type": "code",
   "execution_count": 51,
   "id": "de62806f",
   "metadata": {},
   "outputs": [
    {
     "data": {
      "text/plain": [
       "dict_keys(['model', 'optimizer', 'amp'])"
      ]
     },
     "execution_count": 51,
     "metadata": {},
     "output_type": "execute_result"
    }
   ],
   "source": [
    "model.keys()"
   ]
  },
  {
   "cell_type": "code",
   "execution_count": 53,
   "id": "caa98b04",
   "metadata": {},
   "outputs": [
    {
     "data": {
      "text/plain": [
       "odict_keys(['embedding.weight', 'layers.0.fn.fn.proj_in.0.weight', 'layers.0.fn.fn.proj_in.0.bias', 'layers.0.fn.fn.sgu.w', 'layers.0.fn.fn.sgu.b', 'layers.0.fn.fn.sgu.norm.weight', 'layers.0.fn.fn.sgu.norm.bias', 'layers.0.fn.fn.proj_out.weight', 'layers.0.fn.fn.proj_out.bias', 'layers.0.fn.norm.weight', 'layers.0.fn.norm.bias', 'layers.1.fn.fn.proj_in.0.weight', 'layers.1.fn.fn.proj_in.0.bias', 'layers.1.fn.fn.sgu.w', 'layers.1.fn.fn.sgu.b', 'layers.1.fn.fn.sgu.norm.weight', 'layers.1.fn.fn.sgu.norm.bias', 'layers.1.fn.fn.proj_out.weight', 'layers.1.fn.fn.proj_out.bias', 'layers.1.fn.norm.weight', 'layers.1.fn.norm.bias', 'layers.2.fn.fn.proj_in.0.weight', 'layers.2.fn.fn.proj_in.0.bias', 'layers.2.fn.fn.sgu.w', 'layers.2.fn.fn.sgu.b', 'layers.2.fn.fn.sgu.norm.weight', 'layers.2.fn.fn.sgu.norm.bias', 'layers.2.fn.fn.proj_out.weight', 'layers.2.fn.fn.proj_out.bias', 'layers.2.fn.norm.weight', 'layers.2.fn.norm.bias', 'layers.3.fn.fn.proj_in.0.weight', 'layers.3.fn.fn.proj_in.0.bias', 'layers.3.fn.fn.sgu.w', 'layers.3.fn.fn.sgu.b', 'layers.3.fn.fn.sgu.norm.weight', 'layers.3.fn.fn.sgu.norm.bias', 'layers.3.fn.fn.proj_out.weight', 'layers.3.fn.fn.proj_out.bias', 'layers.3.fn.norm.weight', 'layers.3.fn.norm.bias', 'layers.4.fn.fn.proj_in.0.weight', 'layers.4.fn.fn.proj_in.0.bias', 'layers.4.fn.fn.sgu.w', 'layers.4.fn.fn.sgu.b', 'layers.4.fn.fn.sgu.norm.weight', 'layers.4.fn.fn.sgu.norm.bias', 'layers.4.fn.fn.proj_out.weight', 'layers.4.fn.fn.proj_out.bias', 'layers.4.fn.norm.weight', 'layers.4.fn.norm.bias', 'layers.5.fn.fn.proj_in.0.weight', 'layers.5.fn.fn.proj_in.0.bias', 'layers.5.fn.fn.sgu.w', 'layers.5.fn.fn.sgu.b', 'layers.5.fn.fn.sgu.norm.weight', 'layers.5.fn.fn.sgu.norm.bias', 'layers.5.fn.fn.proj_out.weight', 'layers.5.fn.fn.proj_out.bias', 'layers.5.fn.norm.weight', 'layers.5.fn.norm.bias', 'layers.6.fn.fn.proj_in.0.weight', 'layers.6.fn.fn.proj_in.0.bias', 'layers.6.fn.fn.sgu.w', 'layers.6.fn.fn.sgu.b', 'layers.6.fn.fn.sgu.norm.weight', 'layers.6.fn.fn.sgu.norm.bias', 'layers.6.fn.fn.proj_out.weight', 'layers.6.fn.fn.proj_out.bias', 'layers.6.fn.norm.weight', 'layers.6.fn.norm.bias', 'layers.7.fn.fn.proj_in.0.weight', 'layers.7.fn.fn.proj_in.0.bias', 'layers.7.fn.fn.sgu.w', 'layers.7.fn.fn.sgu.b', 'layers.7.fn.fn.sgu.norm.weight', 'layers.7.fn.fn.sgu.norm.bias', 'layers.7.fn.fn.proj_out.weight', 'layers.7.fn.fn.proj_out.bias', 'layers.7.fn.norm.weight', 'layers.7.fn.norm.bias', 'layers.8.fn.fn.proj_in.0.weight', 'layers.8.fn.fn.proj_in.0.bias', 'layers.8.fn.fn.sgu.w', 'layers.8.fn.fn.sgu.b', 'layers.8.fn.fn.sgu.norm.weight', 'layers.8.fn.fn.sgu.norm.bias', 'layers.8.fn.fn.proj_out.weight', 'layers.8.fn.fn.proj_out.bias', 'layers.8.fn.norm.weight', 'layers.8.fn.norm.bias', 'layers.9.fn.fn.proj_in.0.weight', 'layers.9.fn.fn.proj_in.0.bias', 'layers.9.fn.fn.sgu.w', 'layers.9.fn.fn.sgu.b', 'layers.9.fn.fn.sgu.norm.weight', 'layers.9.fn.fn.sgu.norm.bias', 'layers.9.fn.fn.proj_out.weight', 'layers.9.fn.fn.proj_out.bias', 'layers.9.fn.norm.weight', 'layers.9.fn.norm.bias', 'layers.10.fn.fn.proj_in.0.weight', 'layers.10.fn.fn.proj_in.0.bias', 'layers.10.fn.fn.sgu.w', 'layers.10.fn.fn.sgu.b', 'layers.10.fn.fn.sgu.norm.weight', 'layers.10.fn.fn.sgu.norm.bias', 'layers.10.fn.fn.proj_out.weight', 'layers.10.fn.fn.proj_out.bias', 'layers.10.fn.norm.weight', 'layers.10.fn.norm.bias', 'layers.11.fn.fn.proj_in.0.weight', 'layers.11.fn.fn.proj_in.0.bias', 'layers.11.fn.fn.sgu.w', 'layers.11.fn.fn.sgu.b', 'layers.11.fn.fn.sgu.norm.weight', 'layers.11.fn.fn.sgu.norm.bias', 'layers.11.fn.fn.proj_out.weight', 'layers.11.fn.fn.proj_out.bias', 'layers.11.fn.norm.weight', 'layers.11.fn.norm.bias', 'layers.12.fn.fn.proj_in.0.weight', 'layers.12.fn.fn.proj_in.0.bias', 'layers.12.fn.fn.sgu.w', 'layers.12.fn.fn.sgu.b', 'layers.12.fn.fn.sgu.norm.weight', 'layers.12.fn.fn.sgu.norm.bias', 'layers.12.fn.fn.proj_out.weight', 'layers.12.fn.fn.proj_out.bias', 'layers.12.fn.norm.weight', 'layers.12.fn.norm.bias', 'layers.13.fn.fn.proj_in.0.weight', 'layers.13.fn.fn.proj_in.0.bias', 'layers.13.fn.fn.sgu.w', 'layers.13.fn.fn.sgu.b', 'layers.13.fn.fn.sgu.norm.weight', 'layers.13.fn.fn.sgu.norm.bias', 'layers.13.fn.fn.proj_out.weight', 'layers.13.fn.fn.proj_out.bias', 'layers.13.fn.norm.weight', 'layers.13.fn.norm.bias', 'layers.14.fn.fn.proj_in.0.weight', 'layers.14.fn.fn.proj_in.0.bias', 'layers.14.fn.fn.sgu.w', 'layers.14.fn.fn.sgu.b', 'layers.14.fn.fn.sgu.norm.weight', 'layers.14.fn.fn.sgu.norm.bias', 'layers.14.fn.fn.proj_out.weight', 'layers.14.fn.fn.proj_out.bias', 'layers.14.fn.norm.weight', 'layers.14.fn.norm.bias', 'layers.15.fn.fn.proj_in.0.weight', 'layers.15.fn.fn.proj_in.0.bias', 'layers.15.fn.fn.sgu.w', 'layers.15.fn.fn.sgu.b', 'layers.15.fn.fn.sgu.norm.weight', 'layers.15.fn.fn.sgu.norm.bias', 'layers.15.fn.fn.proj_out.weight', 'layers.15.fn.fn.proj_out.bias', 'layers.15.fn.norm.weight', 'layers.15.fn.norm.bias', 'layers.16.fn.fn.proj_in.0.weight', 'layers.16.fn.fn.proj_in.0.bias', 'layers.16.fn.fn.sgu.w', 'layers.16.fn.fn.sgu.b', 'layers.16.fn.fn.sgu.norm.weight', 'layers.16.fn.fn.sgu.norm.bias', 'layers.16.fn.fn.proj_out.weight', 'layers.16.fn.fn.proj_out.bias', 'layers.16.fn.norm.weight', 'layers.16.fn.norm.bias', 'layers.17.fn.fn.proj_in.0.weight', 'layers.17.fn.fn.proj_in.0.bias', 'layers.17.fn.fn.sgu.w', 'layers.17.fn.fn.sgu.b', 'layers.17.fn.fn.sgu.norm.weight', 'layers.17.fn.fn.sgu.norm.bias', 'layers.17.fn.fn.proj_out.weight', 'layers.17.fn.fn.proj_out.bias', 'layers.17.fn.norm.weight', 'layers.17.fn.norm.bias', 'layers.18.fn.fn.proj_in.0.weight', 'layers.18.fn.fn.proj_in.0.bias', 'layers.18.fn.fn.sgu.w', 'layers.18.fn.fn.sgu.b', 'layers.18.fn.fn.sgu.norm.weight', 'layers.18.fn.fn.sgu.norm.bias', 'layers.18.fn.fn.proj_out.weight', 'layers.18.fn.fn.proj_out.bias', 'layers.18.fn.norm.weight', 'layers.18.fn.norm.bias', 'layers.19.fn.fn.proj_in.0.weight', 'layers.19.fn.fn.proj_in.0.bias', 'layers.19.fn.fn.sgu.w', 'layers.19.fn.fn.sgu.b', 'layers.19.fn.fn.sgu.norm.weight', 'layers.19.fn.fn.sgu.norm.bias', 'layers.19.fn.fn.proj_out.weight', 'layers.19.fn.fn.proj_out.bias', 'layers.19.fn.norm.weight', 'layers.19.fn.norm.bias', 'layers.20.fn.fn.proj_in.0.weight', 'layers.20.fn.fn.proj_in.0.bias', 'layers.20.fn.fn.sgu.w', 'layers.20.fn.fn.sgu.b', 'layers.20.fn.fn.sgu.norm.weight', 'layers.20.fn.fn.sgu.norm.bias', 'layers.20.fn.fn.proj_out.weight', 'layers.20.fn.fn.proj_out.bias', 'layers.20.fn.norm.weight', 'layers.20.fn.norm.bias', 'layers.21.fn.fn.proj_in.0.weight', 'layers.21.fn.fn.proj_in.0.bias', 'layers.21.fn.fn.sgu.w', 'layers.21.fn.fn.sgu.b', 'layers.21.fn.fn.sgu.norm.weight', 'layers.21.fn.fn.sgu.norm.bias', 'layers.21.fn.fn.proj_out.weight', 'layers.21.fn.fn.proj_out.bias', 'layers.21.fn.norm.weight', 'layers.21.fn.norm.bias', 'layers.22.fn.fn.proj_in.0.weight', 'layers.22.fn.fn.proj_in.0.bias', 'layers.22.fn.fn.sgu.w', 'layers.22.fn.fn.sgu.b', 'layers.22.fn.fn.sgu.norm.weight', 'layers.22.fn.fn.sgu.norm.bias', 'layers.22.fn.fn.proj_out.weight', 'layers.22.fn.fn.proj_out.bias', 'layers.22.fn.norm.weight', 'layers.22.fn.norm.bias', 'layers.23.fn.fn.proj_in.0.weight', 'layers.23.fn.fn.proj_in.0.bias', 'layers.23.fn.fn.sgu.w', 'layers.23.fn.fn.sgu.b', 'layers.23.fn.fn.sgu.norm.weight', 'layers.23.fn.fn.sgu.norm.bias', 'layers.23.fn.fn.proj_out.weight', 'layers.23.fn.fn.proj_out.bias', 'layers.23.fn.norm.weight', 'layers.23.fn.norm.bias', 'layers.24.fn.fn.proj_in.0.weight', 'layers.24.fn.fn.proj_in.0.bias', 'layers.24.fn.fn.sgu.w', 'layers.24.fn.fn.sgu.b', 'layers.24.fn.fn.sgu.norm.weight', 'layers.24.fn.fn.sgu.norm.bias', 'layers.24.fn.fn.proj_out.weight', 'layers.24.fn.fn.proj_out.bias', 'layers.24.fn.norm.weight', 'layers.24.fn.norm.bias', 'layers.25.fn.fn.proj_in.0.weight', 'layers.25.fn.fn.proj_in.0.bias', 'layers.25.fn.fn.sgu.w', 'layers.25.fn.fn.sgu.b', 'layers.25.fn.fn.sgu.norm.weight', 'layers.25.fn.fn.sgu.norm.bias', 'layers.25.fn.fn.proj_out.weight', 'layers.25.fn.fn.proj_out.bias', 'layers.25.fn.norm.weight', 'layers.25.fn.norm.bias', 'layers.26.fn.fn.proj_in.0.weight', 'layers.26.fn.fn.proj_in.0.bias', 'layers.26.fn.fn.sgu.w', 'layers.26.fn.fn.sgu.b', 'layers.26.fn.fn.sgu.norm.weight', 'layers.26.fn.fn.sgu.norm.bias', 'layers.26.fn.fn.proj_out.weight', 'layers.26.fn.fn.proj_out.bias', 'layers.26.fn.norm.weight', 'layers.26.fn.norm.bias', 'layers.27.fn.fn.proj_in.0.weight', 'layers.27.fn.fn.proj_in.0.bias', 'layers.27.fn.fn.sgu.w', 'layers.27.fn.fn.sgu.b', 'layers.27.fn.fn.sgu.norm.weight', 'layers.27.fn.fn.sgu.norm.bias', 'layers.27.fn.fn.proj_out.weight', 'layers.27.fn.fn.proj_out.bias', 'layers.27.fn.norm.weight', 'layers.27.fn.norm.bias', 'layers.28.fn.fn.proj_in.0.weight', 'layers.28.fn.fn.proj_in.0.bias', 'layers.28.fn.fn.sgu.w', 'layers.28.fn.fn.sgu.b', 'layers.28.fn.fn.sgu.norm.weight', 'layers.28.fn.fn.sgu.norm.bias', 'layers.28.fn.fn.proj_out.weight', 'layers.28.fn.fn.proj_out.bias', 'layers.28.fn.norm.weight', 'layers.28.fn.norm.bias', 'layers.29.fn.fn.proj_in.0.weight', 'layers.29.fn.fn.proj_in.0.bias', 'layers.29.fn.fn.sgu.w', 'layers.29.fn.fn.sgu.b', 'layers.29.fn.fn.sgu.norm.weight', 'layers.29.fn.fn.sgu.norm.bias', 'layers.29.fn.fn.proj_out.weight', 'layers.29.fn.fn.proj_out.bias', 'layers.29.fn.norm.weight', 'layers.29.fn.norm.bias', 'layers.30.fn.fn.proj_in.0.weight', 'layers.30.fn.fn.proj_in.0.bias', 'layers.30.fn.fn.sgu.w', 'layers.30.fn.fn.sgu.b', 'layers.30.fn.fn.sgu.norm.weight', 'layers.30.fn.fn.sgu.norm.bias', 'layers.30.fn.fn.proj_out.weight', 'layers.30.fn.fn.proj_out.bias', 'layers.30.fn.norm.weight', 'layers.30.fn.norm.bias', 'layers.31.fn.fn.proj_in.0.weight', 'layers.31.fn.fn.proj_in.0.bias', 'layers.31.fn.fn.sgu.w', 'layers.31.fn.fn.sgu.b', 'layers.31.fn.fn.sgu.norm.weight', 'layers.31.fn.fn.sgu.norm.bias', 'layers.31.fn.fn.proj_out.weight', 'layers.31.fn.fn.proj_out.bias', 'layers.31.fn.norm.weight', 'layers.31.fn.norm.bias', 'to_logits.0.weight', 'to_logits.0.bias', 'to_logits.1.weight', 'to_logits.1.bias', 'to_species.0.weight', 'to_species.0.bias', 'to_species.1.weight', 'to_species.1.bias'])"
      ]
     },
     "execution_count": 53,
     "metadata": {},
     "output_type": "execute_result"
    }
   ],
   "source": [
    "model['model'].keys()"
   ]
  },
  {
   "cell_type": "code",
   "execution_count": 61,
   "id": "327e685d",
   "metadata": {},
   "outputs": [
    {
     "data": {
      "text/plain": [
       "torch.Size([67, 512])"
      ]
     },
     "execution_count": 61,
     "metadata": {},
     "output_type": "execute_result"
    }
   ],
   "source": [
    "weight = model['model'][ 'to_logits.1.weight'] #decoderの重み\n",
    "weight.shape"
   ]
  },
  {
   "cell_type": "code",
   "execution_count": 65,
   "id": "85b02e87",
   "metadata": {},
   "outputs": [
    {
     "data": {
      "text/plain": [
       "tensor([[-0.0089,  0.1539, -0.0412,  ..., -0.1274,  0.1990,  0.1659],\n",
       "        [-0.0406, -0.0315, -0.0398,  ..., -0.0746, -0.0753, -0.0217],\n",
       "        [ 0.1025,  0.0839,  0.0374,  ..., -0.0144,  0.0416,  0.0921],\n",
       "        ...,\n",
       "        [ 0.0276, -0.0585, -0.0176,  ..., -0.2439, -0.0840, -0.0309],\n",
       "        [-0.0035,  0.1573, -0.0391,  ..., -0.1177,  0.1995,  0.1743],\n",
       "        [-0.0085,  0.1608, -0.0457,  ..., -0.1221,  0.1924,  0.1769]],\n",
       "       device='cuda:0')"
      ]
     },
     "execution_count": 65,
     "metadata": {},
     "output_type": "execute_result"
    }
   ],
   "source": [
    "weight"
   ]
  },
  {
   "cell_type": "code",
   "execution_count": 62,
   "id": "e2f6157a",
   "metadata": {},
   "outputs": [],
   "source": [
    "import torch\n",
    "import torch.nn as nn\n",
    "decoder = nn.Sequential(\n",
    "            nn.LayerNorm(67),\n",
    "            nn.Linear(67, 512)\n",
    "        )"
   ]
  },
  {
   "cell_type": "code",
   "execution_count": 63,
   "id": "c259595a",
   "metadata": {},
   "outputs": [],
   "source": [
    "decoder = weight"
   ]
  },
  {
   "cell_type": "code",
   "execution_count": 64,
   "id": "39d12eb7",
   "metadata": {},
   "outputs": [
    {
     "data": {
      "text/plain": [
       "tensor([[-0.0089,  0.1539, -0.0412,  ..., -0.1274,  0.1990,  0.1659],\n",
       "        [-0.0406, -0.0315, -0.0398,  ..., -0.0746, -0.0753, -0.0217],\n",
       "        [ 0.1025,  0.0839,  0.0374,  ..., -0.0144,  0.0416,  0.0921],\n",
       "        ...,\n",
       "        [ 0.0276, -0.0585, -0.0176,  ..., -0.2439, -0.0840, -0.0309],\n",
       "        [-0.0035,  0.1573, -0.0391,  ..., -0.1177,  0.1995,  0.1743],\n",
       "        [-0.0085,  0.1608, -0.0457,  ..., -0.1221,  0.1924,  0.1769]],\n",
       "       device='cuda:0')"
      ]
     },
     "execution_count": 64,
     "metadata": {},
     "output_type": "execute_result"
    }
   ],
   "source": [
    "decoder"
   ]
  },
  {
   "cell_type": "code",
   "execution_count": 70,
   "id": "fcb44b4d",
   "metadata": {},
   "outputs": [
    {
     "data": {
      "text/plain": [
       "['./CDSdata/GCF_000009045.1_ASM904v1_cds_from_genomic.fna']"
      ]
     },
     "execution_count": 70,
     "metadata": {},
     "output_type": "execute_result"
    }
   ],
   "source": [
    "\n",
    "import numpy as np\n",
    "import glob\n",
    "import re\n",
    "import os\n",
    "\n",
    "path=\"./CDSdata\"\n",
    "fastas = glob.glob(os.path.join(path, 'GCF_000009045.1_ASM904v1_cds_from_genomic.fna'))\n",
    "fastas"
   ]
  },
  {
   "cell_type": "code",
   "execution_count": 75,
   "id": "28846738",
   "metadata": {},
   "outputs": [
    {
     "name": "stdout",
     "output_type": "stream",
     "text": [
      "./CDSdata/GCF_000009045.1_ASM904v1_cds_from_genomic.fna\n"
     ]
    }
   ],
   "source": [
    "path=\"./CDSdata\"\n",
    "fastas = glob.glob(os.path.join(path, 'GCF_000009045.1_ASM904v1_cds_from_genomic.fna'))\n",
    "for fasta in fastas:\n",
    "    print(fasta)"
   ]
  },
  {
   "cell_type": "code",
   "execution_count": null,
   "id": "918afcb5",
   "metadata": {},
   "outputs": [],
   "source": []
  }
 ],
 "metadata": {
  "kernelspec": {
   "display_name": "Python 3 (ipykernel)",
   "language": "python",
   "name": "python3"
  },
  "language_info": {
   "codemirror_mode": {
    "name": "ipython",
    "version": 3
   },
   "file_extension": ".py",
   "mimetype": "text/x-python",
   "name": "python",
   "nbconvert_exporter": "python",
   "pygments_lexer": "ipython3",
   "version": "3.8.2"
  }
 },
 "nbformat": 4,
 "nbformat_minor": 5
}
